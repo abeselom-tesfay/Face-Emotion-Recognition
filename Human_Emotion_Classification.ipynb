{
 "cells": [
  {
   "cell_type": "code",
   "execution_count": 14,
   "id": "085e38cd-645e-484b-93d7-3c01d15168dc",
   "metadata": {},
   "outputs": [],
   "source": [
    "import numpy as np\n",
    "import matplotlib.pyplot as plt\n",
    "import tensorflow as tf\n",
    "from tensorflow.keras.preprocessing.image import ImageDataGenerator, load_img\n",
    "from tensorflow.keras import layers, models"
   ]
  },
  {
   "cell_type": "code",
   "execution_count": 16,
   "id": "2a7d9105-91a0-4bed-91aa-c11e85947c41",
   "metadata": {},
   "outputs": [],
   "source": [
    "train_data_path = 'Facial_Images/train' \n",
    "val_data_path = 'Facial_Images/validation'"
   ]
  },
  {
   "cell_type": "code",
   "execution_count": 18,
   "id": "aea692d9-16ee-4e7c-91c1-bd3315ff8946",
   "metadata": {},
   "outputs": [
    {
     "name": "stdout",
     "output_type": "stream",
     "text": [
      "angry\n",
      "disgust\n",
      "fear\n",
      "happy\n",
      "neutral\n",
      "sad\n",
      "surprise\n"
     ]
    }
   ],
   "source": [
    "import os\n",
    "for expression in os.listdir(train_data_path):\n",
    "    print(expression)\n"
   ]
  },
  {
   "cell_type": "code",
   "execution_count": null,
   "id": "fbdc18ff-e1c8-4b00-94ae-406ce7dfa16d",
   "metadata": {},
   "outputs": [],
   "source": []
  }
 ],
 "metadata": {
  "kernelspec": {
   "display_name": "Python [conda env:base] *",
   "language": "python",
   "name": "conda-base-py"
  },
  "language_info": {
   "codemirror_mode": {
    "name": "ipython",
    "version": 3
   },
   "file_extension": ".py",
   "mimetype": "text/x-python",
   "name": "python",
   "nbconvert_exporter": "python",
   "pygments_lexer": "ipython3",
   "version": "3.12.7"
  }
 },
 "nbformat": 4,
 "nbformat_minor": 5
}
